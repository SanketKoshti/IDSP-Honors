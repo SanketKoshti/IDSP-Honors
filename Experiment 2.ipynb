{
 "cells": [
  {
   "cell_type": "markdown",
   "id": "e601b773-4376-484a-9f4b-0248e8df4853",
   "metadata": {},
   "source": [
    "# NUMPY ARRAY"
   ]
  },
  {
   "cell_type": "markdown",
   "id": "92e62030-c9d2-4711-bde5-ca9b1daa57e7",
   "metadata": {},
   "source": [
    "## Creating a NumPy Array"
   ]
  },
  {
   "cell_type": "code",
   "execution_count": 22,
   "id": "ba3a7944-648f-4e83-a973-0dfa8829601d",
   "metadata": {},
   "outputs": [],
   "source": [
    "import numpy as np\n",
    "\n",
    "# Creating a NumPy array\n",
    "array1 = np.array([1, 3, 5, 7, 9])"
   ]
  },
  {
   "cell_type": "markdown",
   "id": "8374b8b6-e7e8-4346-a8b5-12acf35e3b79",
   "metadata": {},
   "source": [
    "## Accessing Array Elements Using Index"
   ]
  },
  {
   "cell_type": "code",
   "execution_count": 25,
   "id": "b99248d6-65d4-400c-a9cb-737c983cf65f",
   "metadata": {},
   "outputs": [
    {
     "name": "stdout",
     "output_type": "stream",
     "text": [
      "Accessing elements using index:\n",
      "First element (array1[0]): 1\n",
      "Third element (array1[2]): 5\n",
      "Fifth element (array1[4]): 9\n"
     ]
    }
   ],
   "source": [
    "# Accessing array elements using index\n",
    "print(\"Accessing elements using index:\")\n",
    "print(\"First element (array1[0]):\", array1[0])  # Output: 1\n",
    "print(\"Third element (array1[2]):\", array1[2])  # Output: 5\n",
    "print(\"Fifth element (array1[4]):\", array1[4])  # Output: 9"
   ]
  },
  {
   "cell_type": "markdown",
   "id": "4d737e62-e689-439d-874a-f14f554cff64",
   "metadata": {},
   "source": [
    "## Modifying Array Elements Using Index"
   ]
  },
  {
   "cell_type": "code",
   "execution_count": 28,
   "id": "5c0faabc-d760-4427-9152-6054399564ea",
   "metadata": {},
   "outputs": [
    {
     "name": "stdout",
     "output_type": "stream",
     "text": [
      "\n",
      "Modifying elements using index:\n",
      "Original array: [ 2  4  6  8 10]\n",
      "After modifying first element: [12  4  6  8 10]\n",
      "After modifying third element: [12  4 14  8 10]\n"
     ]
    }
   ],
   "source": [
    "# Modifying array elements using index\n",
    "numbers = np.array([2, 4, 6, 8, 10])\n",
    "print(\"\\nModifying elements using index:\")\n",
    "print(\"Original array:\", numbers)\n",
    "\n",
    "# Changing the value of the first element\n",
    "numbers[0] = 12\n",
    "print(\"After modifying first element:\", numbers)  # Output: [12, 4, 6, 8, 10]\n",
    "\n",
    "# Changing the value of the third element\n",
    "numbers[2] = 14\n",
    "print(\"After modifying third element:\", numbers)  # Output: [12, 4, 14, 8, 10]"
   ]
  },
  {
   "cell_type": "markdown",
   "id": "ba7d040e-142d-4224-8f4a-e3ccc04e2ea4",
   "metadata": {},
   "source": [
    "## Negative Indexing"
   ]
  },
  {
   "cell_type": "code",
   "execution_count": 31,
   "id": "5997a2af-3ca2-4032-aa48-d2f790778e13",
   "metadata": {},
   "outputs": [
    {
     "name": "stdout",
     "output_type": "stream",
     "text": [
      "\n",
      "Negative indexing:\n",
      "Last element (numbers[-1]): 10\n",
      "Second-to-last element (numbers[-2]): 8\n"
     ]
    }
   ],
   "source": [
    "# Demonstrating negative indexing\n",
    "print(\"\\nNegative indexing:\")\n",
    "print(\"Last element (numbers[-1]):\", numbers[-1])  # Output: 10\n",
    "print(\"Second-to-last element (numbers[-2]):\", numbers[-2])  # Output: 8"
   ]
  }
 ],
 "metadata": {
  "kernelspec": {
   "display_name": "Python 3 (ipykernel)",
   "language": "python",
   "name": "python3"
  },
  "language_info": {
   "codemirror_mode": {
    "name": "ipython",
    "version": 3
   },
   "file_extension": ".py",
   "mimetype": "text/x-python",
   "name": "python",
   "nbconvert_exporter": "python",
   "pygments_lexer": "ipython3",
   "version": "3.12.4"
  }
 },
 "nbformat": 4,
 "nbformat_minor": 5
}
