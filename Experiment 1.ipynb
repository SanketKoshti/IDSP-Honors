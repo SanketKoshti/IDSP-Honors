{
 "cells": [
  {
   "cell_type": "markdown",
   "id": "674a957a-52b7-4987-aebc-babc11dd0cdd",
   "metadata": {},
   "source": [
    "# Array creation techniques"
   ]
  },
  {
   "cell_type": "markdown",
   "id": "a615acdd-0e6b-4b06-bd28-567300c094e2",
   "metadata": {},
   "source": [
    "## Creating an Array"
   ]
  },
  {
   "cell_type": "code",
   "execution_count": 1,
   "id": "b45065b2-d2c0-4308-b599-87102f9da225",
   "metadata": {},
   "outputs": [],
   "source": [
    "import array as arr"
   ]
  },
  {
   "cell_type": "code",
   "execution_count": 3,
   "id": "fdf5b5cd-9f1a-42ae-84de-ea97f7b3dfaf",
   "metadata": {},
   "outputs": [
    {
     "name": "stdout",
     "output_type": "stream",
     "text": [
      "Initial integer array: array('i', [1, 2, 3])\n"
     ]
    }
   ],
   "source": [
    "# Creating an array of integers\n",
    "int_array = arr.array('i', [1, 2, 3])\n",
    "print(\"Initial integer array:\", int_array)"
   ]
  },
  {
   "cell_type": "markdown",
   "id": "3dabd77c-a948-4ab3-91b7-6ad053993ed0",
   "metadata": {},
   "source": [
    "## Adding Elements to an Array"
   ]
  },
  {
   "cell_type": "code",
   "execution_count": 5,
   "id": "57e8e9ef-244e-4930-b8ed-b02ebda0ed5a",
   "metadata": {},
   "outputs": [
    {
     "name": "stdout",
     "output_type": "stream",
     "text": [
      "Array after inserting 4 at index 1: array('i', [1, 4, 2, 3])\n"
     ]
    }
   ],
   "source": [
    "# Adding an element using insert()\n",
    "int_array.insert(1, 4)  # Insert 4 at index 1\n",
    "print(\"Array after inserting 4 at index 1:\", int_array)"
   ]
  },
  {
   "cell_type": "code",
   "execution_count": 7,
   "id": "5d2f3491-1d72-4271-86b9-20fcc69119d9",
   "metadata": {},
   "outputs": [
    {
     "name": "stdout",
     "output_type": "stream",
     "text": [
      "Array after appending 5: array('i', [1, 4, 2, 3, 5])\n"
     ]
    }
   ],
   "source": [
    "# Adding an element using append()\n",
    "int_array.append(5)  # Append 5 at the end of the array\n",
    "print(\"Array after appending 5:\", int_array)"
   ]
  },
  {
   "cell_type": "code",
   "execution_count": 9,
   "id": "a5403e55-4f4c-42f6-bd67-07819920a9b1",
   "metadata": {},
   "outputs": [
    {
     "name": "stdout",
     "output_type": "stream",
     "text": [
      "\n",
      "Initial float array: array('d', [2.5, 3.2, 3.3])\n"
     ]
    }
   ],
   "source": [
    "# Creating an array of floats\n",
    "float_array = arr.array('d', [2.5, 3.2, 3.3])\n",
    "print(\"\\nInitial float array:\", float_array)"
   ]
  },
  {
   "cell_type": "code",
   "execution_count": 11,
   "id": "0a9c1ba7-50f5-4e66-b230-0506913d36d1",
   "metadata": {},
   "outputs": [
    {
     "name": "stdout",
     "output_type": "stream",
     "text": [
      "Float array after appending 4.4: array('d', [2.5, 3.2, 3.3, 4.4])\n"
     ]
    }
   ],
   "source": [
    "# Adding an element using append()\n",
    "float_array.append(4.4)  # Append 4.4 to the array\n",
    "print(\"Float array after appending 4.4:\", float_array)"
   ]
  },
  {
   "cell_type": "markdown",
   "id": "5315d450-3086-4303-a657-aa45548c6f15",
   "metadata": {},
   "source": [
    "## Slicing of an Array"
   ]
  },
  {
   "cell_type": "code",
   "execution_count": 14,
   "id": "5f917d19-371c-4016-a7d6-dff3e55f3dc8",
   "metadata": {},
   "outputs": [
    {
     "name": "stdout",
     "output_type": "stream",
     "text": [
      "\n",
      "Slicing examples:\n",
      "First two elements: array('i', [1, 4])\n",
      "Last two elements: array('i', [3, 5])\n",
      "Elements from index 1 to 3: array('i', [4, 2, 3])\n",
      "Full array in reverse order: array('i', [5, 3, 2, 4, 1])\n"
     ]
    }
   ],
   "source": [
    "# Slicing the integer array\n",
    "print(\"\\nSlicing examples:\")\n",
    "print(\"First two elements:\", int_array[:2])          # Output: [1, 4]\n",
    "print(\"Last two elements:\", int_array[-2:])         # Output: [5]\n",
    "print(\"Elements from index 1 to 3:\", int_array[1:4])  # Output: [4, 3, 5]\n",
    "print(\"Full array in reverse order:\", int_array[::-1])  # Output: [5, 3, 4, 1]"
   ]
  },
  {
   "cell_type": "code",
   "execution_count": 16,
   "id": "1c7cde48-7676-4c71-b35f-986aac70c543",
   "metadata": {},
   "outputs": [
    {
     "name": "stdout",
     "output_type": "stream",
     "text": [
      "\n",
      "Slicing float array:\n",
      "All elements: array('d', [2.5, 3.2, 3.3, 4.4])\n",
      "Elements from index 1 onwards: array('d', [3.2, 3.3, 4.4])\n"
     ]
    }
   ],
   "source": [
    "# Slicing the float array\n",
    "print(\"\\nSlicing float array:\")\n",
    "print(\"All elements:\", float_array[:])                # Output: [2.5, 3.2, 3.3, 4.4]\n",
    "print(\"Elements from index 1 onwards:\", float_array[1:])  # Output: [3.2, 3.3, 4.4]"
   ]
  }
 ],
 "metadata": {
  "kernelspec": {
   "display_name": "Python 3 (ipykernel)",
   "language": "python",
   "name": "python3"
  },
  "language_info": {
   "codemirror_mode": {
    "name": "ipython",
    "version": 3
   },
   "file_extension": ".py",
   "mimetype": "text/x-python",
   "name": "python",
   "nbconvert_exporter": "python",
   "pygments_lexer": "ipython3",
   "version": "3.12.4"
  }
 },
 "nbformat": 4,
 "nbformat_minor": 5
}
