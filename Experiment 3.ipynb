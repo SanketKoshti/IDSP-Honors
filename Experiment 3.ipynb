{
 "cells": [
  {
   "cell_type": "markdown",
   "id": "8cc64959-80a9-4a36-8817-b0df471f0de8",
   "metadata": {},
   "source": [
    "# Python function to find the Max in Numpy array, sum all the numbers in Numpy array, find average of numbers in Numpy array."
   ]
  },
  {
   "cell_type": "markdown",
   "id": "a642283f-81bf-4094-a1d5-1814fe217930",
   "metadata": {},
   "source": [
    "## 1. Importing NumPy Library:"
   ]
  },
  {
   "cell_type": "code",
   "execution_count": 37,
   "id": "c6eae9c0-3c87-42db-a2a6-b669a4cd77fe",
   "metadata": {},
   "outputs": [],
   "source": [
    "import numpy as np"
   ]
  },
  {
   "cell_type": "markdown",
   "id": "d2d26054-0fe2-4db5-b790-ce90bb8c6920",
   "metadata": {},
   "source": [
    "## 2. Defining the Function:"
   ]
  },
  {
   "cell_type": "code",
   "execution_count": 50,
   "id": "d29b39b3-d97a-45de-91cb-f8527228a5ec",
   "metadata": {},
   "outputs": [],
   "source": [
    "# Function to perform the required operations\n",
    "def array_operations(arr):\n",
    "    # Finding the maximum value, ignoring NaN values\n",
    "    max_value = np.nanmax(arr)\n",
    "    \n",
    "    # Summing all the elements of the array, ignoring NaN values\n",
    "    total_sum = np.nansum(arr)\n",
    "    \n",
    "    # Finding the average, ignoring NaN values\n",
    "    avg_value = np.nanmean(arr)\n",
    "    \n",
    "    # Printing the results\n",
    "    print(f\"Maximum value in the array: {max_value}\")\n",
    "    print(f\"Sum of all elements in the array: {total_sum}\")\n",
    "    print(f\"Average of the array elements: {avg_value}\")"
   ]
  },
  {
   "cell_type": "code",
   "execution_count": 52,
   "id": "ac51c7aa-3123-42f4-9dc1-8a222de42a8f",
   "metadata": {},
   "outputs": [],
   "source": [
    "# Example array with some NaN values\n",
    "example_array = np.array([23, 45, 67, np.nan, 89, 12])"
   ]
  },
  {
   "cell_type": "code",
   "execution_count": 54,
   "id": "51ae71e9-1010-43f1-88f2-d730d9273a1b",
   "metadata": {},
   "outputs": [
    {
     "name": "stdout",
     "output_type": "stream",
     "text": [
      "Maximum value in the array: 89.0\n",
      "Sum of all elements in the array: 236.0\n",
      "Average of the array elements: 47.2\n"
     ]
    }
   ],
   "source": [
    "# Calling the function after defining it\n",
    "array_operations(example_array)"
   ]
  }
 ],
 "metadata": {
  "kernelspec": {
   "display_name": "Python 3 (ipykernel)",
   "language": "python",
   "name": "python3"
  },
  "language_info": {
   "codemirror_mode": {
    "name": "ipython",
    "version": 3
   },
   "file_extension": ".py",
   "mimetype": "text/x-python",
   "name": "python",
   "nbconvert_exporter": "python",
   "pygments_lexer": "ipython3",
   "version": "3.12.4"
  }
 },
 "nbformat": 4,
 "nbformat_minor": 5
}
