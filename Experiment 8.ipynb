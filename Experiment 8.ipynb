{
 "cells": [
  {
   "cell_type": "markdown",
   "id": "2d555601-8305-4a1d-8b4d-010e8b0dc8c4",
   "metadata": {},
   "source": [
    "# Python program to demonstrate STRING MANIPULATION and REGULAR EXPRESSIONS"
   ]
  },
  {
   "cell_type": "markdown",
   "id": "980a8f6a-fca2-4763-87e5-05b1f7ab9436",
   "metadata": {},
   "source": [
    "## Regular Expressions"
   ]
  },
  {
   "cell_type": "markdown",
   "id": "e100723d-edd9-42b8-9807-7d3370636a36",
   "metadata": {},
   "source": [
    "#### Python's built-in re module provides functions and methods to work with regular expressions\n",
    "### 1. Pattern Matching"
   ]
  },
  {
   "cell_type": "code",
   "execution_count": 27,
   "id": "e937349d-6ee2-462b-abf3-7d4028f7232b",
   "metadata": {},
   "outputs": [
    {
     "name": "stdout",
     "output_type": "stream",
     "text": [
      "Found email: support@example.com\n"
     ]
    }
   ],
   "source": [
    "import re\n",
    "\n",
    "# Example text\n",
    "text = \"Please contact us at support@example.com for more details.\"\n",
    "\n",
    "# Regular expression pattern to match an email address\n",
    "email_pattern = r'\\b[A-Za-z0-9._%+-]+@[A-Za-z0-9.-]+\\.[A-Z|a-z]{2,}\\b'\n",
    "\n",
    "# Search for the email in the text\n",
    "match = re.search(email_pattern, text)\n",
    "\n",
    "if match:\n",
    "    print(\"Found email:\", match.group())\n",
    "else:\n",
    "    print(\"No email found.\")"
   ]
  },
  {
   "cell_type": "markdown",
   "id": "b5ab2d05-06ac-451a-86ce-0d96d3f5c9eb",
   "metadata": {},
   "source": [
    "### 2. Matching Functions"
   ]
  },
  {
   "cell_type": "code",
   "execution_count": 34,
   "id": "eb253daf-dead-4d00-9fd7-e7d3eb5dc785",
   "metadata": {},
   "outputs": [
    {
     "name": "stdout",
     "output_type": "stream",
     "text": [
      "Found: apple\n"
     ]
    }
   ],
   "source": [
    "# 1. re.search()\n",
    "#This function searches the entire string for the first match of the pattern.\n",
    "# Search for the first occurrence of the word \"apple\"\n",
    "text = \"I have an apple, a banana, and an orange.\"\n",
    "match = re.search(r'apple', text)\n",
    "\n",
    "if match:\n",
    "    print(\"Found:\", match.group())"
   ]
  },
  {
   "cell_type": "code",
   "execution_count": 36,
   "id": "2e993497-3130-4320-a23c-d62c3e7a4701",
   "metadata": {},
   "outputs": [
    {
     "name": "stdout",
     "output_type": "stream",
     "text": [
      "Match found: apple\n"
     ]
    }
   ],
   "source": [
    "# 2. re.match()\n",
    "#This function checks if the pattern matches the beginning of the string.\n",
    "# Match the pattern at the beginning of the string\n",
    "text = \"apple is my favorite fruit.\"\n",
    "match = re.match(r'apple', text)\n",
    "\n",
    "if match:\n",
    "    print(\"Match found:\", match.group())"
   ]
  },
  {
   "cell_type": "code",
   "execution_count": 38,
   "id": "27f95bce-3546-4eca-bf1d-c1c7d2b4f412",
   "metadata": {},
   "outputs": [
    {
     "name": "stdout",
     "output_type": "stream",
     "text": [
      "All words: ['I', 'have', 'an', 'apple', 'a', 'banana', 'and', 'an', 'orange']\n"
     ]
    }
   ],
   "source": [
    "# 3. re.findall()\n",
    "#This function finds all occurrences of the pattern in the string and returns them as a list.\n",
    "# Find all the fruit names\n",
    "text = \"I have an apple, a banana, and an orange.\"\n",
    "matches = re.findall(r'\\b\\w+\\b', text)\n",
    "\n",
    "print(\"All words:\", matches)"
   ]
  },
  {
   "cell_type": "code",
   "execution_count": 93,
   "id": "144c71e4-36c1-402a-bc89-cc413840119d",
   "metadata": {},
   "outputs": [
    {
     "name": "stdout",
     "output_type": "stream",
     "text": [
      "Modified text: My number is XXXXXXXXXX\n",
      "Modified text: Contact us at john.REDACTED for more info.\n"
     ]
    }
   ],
   "source": [
    "# 4. re.sub()\n",
    "#This function in Python is used to substitute or replace occurrences of a pattern within a string with a new string.\n",
    "#re.sub(pattern, replacement, string, count=0, flags=0)\n",
    "import re\n",
    "\n",
    "text = \"My number is 9876543210\"\n",
    "result = re.sub(r'\\d', 'X', text)\n",
    "print(\"Modified text:\", result)\n",
    "\n",
    "text = \"Contact us at john.doe@example.com for more info.\"\n",
    "result = re.sub(r'\\w+@\\w+\\.\\w+', 'REDACTED', text)\n",
    "print(\"Modified text:\", result)"
   ]
  },
  {
   "cell_type": "markdown",
   "id": "a85a553d-1ad2-40bd-93ed-8fe96114a8cc",
   "metadata": {},
   "source": [
    "### 3. Regex Patterns"
   ]
  },
  {
   "cell_type": "code",
   "execution_count": 51,
   "id": "060e70a7-4f26-4000-a4d2-494908f0b0a9",
   "metadata": {},
   "outputs": [
    {
     "name": "stdout",
     "output_type": "stream",
     "text": [
      "Digits found: ['123', '456', '7890']\n",
      "Digits found: ['9', '8', '7', '6', '5', '4', '3', '2', '1', '0']\n"
     ]
    }
   ],
   "source": [
    "# \\d - Matches any digit\n",
    "text = \"My phone number is 123-456-7890.\"\n",
    "digits = re.findall(r'\\d+', text)\n",
    "print(\"Digits found:\", digits)\n",
    "\n",
    "text = \"My phone number is 9876543210\"\n",
    "digits = re.findall(r'\\d', text)\n",
    "print(\"Digits found:\", digits)"
   ]
  },
  {
   "cell_type": "code",
   "execution_count": 53,
   "id": "ed1c3b68-c924-4b29-bbdb-10f8ad03dba2",
   "metadata": {},
   "outputs": [
    {
     "name": "stdout",
     "output_type": "stream",
     "text": [
      "Non-digits found: ['O', 'r', 'd', 'e', 'r', ' ', 'I', 'D', ':', ' ', 'A', 'B', 'C', 'X', 'Y', 'Z']\n"
     ]
    }
   ],
   "source": [
    "# \\D - Matches any non-digit character\n",
    "text = \"Order ID: ABC1234XYZ\"\n",
    "non_digits = re.findall(r'\\D', text)\n",
    "print(\"Non-digits found:\", non_digits)"
   ]
  },
  {
   "cell_type": "code",
   "execution_count": 57,
   "id": "1f3b8b1a-2c5c-4a23-accc-c9418566e6d6",
   "metadata": {},
   "outputs": [
    {
     "name": "stdout",
     "output_type": "stream",
     "text": [
      "Words found: ['The', 'file', 'name', 'is', 'my_file_123', 'txt']\n",
      "Alphanumeric characters: ['U', 's', 'e', 'r', 'n', 'a', 'm', 'e', 'u', 's', 'e', 'r', '_', '1', '2', '3']\n"
     ]
    }
   ],
   "source": [
    "# \\w - Matches any word character (letters, digits, or underscores)\n",
    "text = \"The file name is my_file_123.txt\"\n",
    "words = re.findall(r'\\w+', text)\n",
    "print(\"Words found:\", words)\n",
    "\n",
    "text = \"Username: user_123\"\n",
    "alphanumeric = re.findall(r'\\w', text)\n",
    "print(\"Alphanumeric characters:\", alphanumeric)"
   ]
  },
  {
   "cell_type": "code",
   "execution_count": 59,
   "id": "cca48ae0-b95b-455c-b91e-7b54670076d2",
   "metadata": {},
   "outputs": [
    {
     "name": "stdout",
     "output_type": "stream",
     "text": [
      "Non-alphanumeric characters: [',', ' ', '!', ' ', '@']\n"
     ]
    }
   ],
   "source": [
    "# \\W - Matches any non-alphanumeric character\n",
    "text = \"Hello, World! @2024\"\n",
    "non_alphanumeric = re.findall(r'\\W', text)\n",
    "print(\"Non-alphanumeric characters:\", non_alphanumeric)"
   ]
  },
  {
   "cell_type": "code",
   "execution_count": 61,
   "id": "4c21e5a8-8a76-4d80-b5d1-a3badae63ee0",
   "metadata": {},
   "outputs": [
    {
     "name": "stdout",
     "output_type": "stream",
     "text": [
      "Whitespace characters: [' ', '\\t', ' ', '\\n']\n"
     ]
    }
   ],
   "source": [
    "# \\s - Matches any whitespace character (space, tab, newline, etc.)\n",
    "text = \"This is\\ta test\\nstring.\"\n",
    "whitespace = re.findall(r'\\s', text)\n",
    "print(\"Whitespace characters:\", whitespace)"
   ]
  },
  {
   "cell_type": "code",
   "execution_count": 63,
   "id": "38dfebf2-b74f-4454-80ac-d0bc92468da1",
   "metadata": {},
   "outputs": [
    {
     "name": "stdout",
     "output_type": "stream",
     "text": [
      "Non-whitespace characters: ['W', 'h', 'i', 't', 'e', 's', 'p', 'a', 'c', 'e', '1', '2', '3', '!']\n"
     ]
    }
   ],
   "source": [
    "# \\S - Matches any non-whitespace character\n",
    "text = \"Whitespace 123!\"\n",
    "non_whitespace = re.findall(r'\\S', text)\n",
    "print(\"Non-whitespace characters:\", non_whitespace)"
   ]
  },
  {
   "cell_type": "code",
   "execution_count": 65,
   "id": "299210c3-6be8-42bb-99c3-b8ce9b01065d",
   "metadata": {},
   "outputs": [
    {
     "name": "stdout",
     "output_type": "stream",
     "text": [
      "Words: ['Hello', 'world']\n"
     ]
    }
   ],
   "source": [
    "# \\b - Matches a word boundary\n",
    "text = \"Hello, world!\"\n",
    "words = re.findall(r'\\b\\w+', text)\n",
    "print(\"Words:\", words)"
   ]
  },
  {
   "cell_type": "code",
   "execution_count": 67,
   "id": "f46ff324-6bed-4311-a055-54ebe10410f7",
   "metadata": {},
   "outputs": [
    {
     "name": "stdout",
     "output_type": "stream",
     "text": [
      "Non-word boundary matches: ['B', 'B', 'A']\n"
     ]
    }
   ],
   "source": [
    "# \\B - Matches a non-word boundary\n",
    "text = \"ABBA\"\n",
    "non_word_boundary = re.findall(r'\\B\\w', text)\n",
    "print(\"Non-word boundary matches:\", non_word_boundary)"
   ]
  },
  {
   "cell_type": "code",
   "execution_count": 69,
   "id": "06591c60-34e4-4562-8798-d7dccce8dbbc",
   "metadata": {},
   "outputs": [
    {
     "name": "stdout",
     "output_type": "stream",
     "text": [
      "Start of the string match: ['Start']\n"
     ]
    }
   ],
   "source": [
    "# \\A - Matches the start of a string\n",
    "text = \"Start here and continue.\"\n",
    "match_start = re.findall(r'\\AStart', text)\n",
    "print(\"Start of the string match:\", match_start)"
   ]
  },
  {
   "cell_type": "code",
   "execution_count": 71,
   "id": "f3285070-d13d-4f45-a7be-7b627de166ad",
   "metadata": {},
   "outputs": [
    {
     "name": "stdout",
     "output_type": "stream",
     "text": [
      "End of the string match: []\n"
     ]
    }
   ],
   "source": [
    "# \\Z - Matches the end of a string\n",
    "text = \"Continue until the end.\"\n",
    "match_end = re.findall(r'end\\Z', text)\n",
    "print(\"End of the string match:\", match_end)"
   ]
  },
  {
   "cell_type": "code",
   "execution_count": 73,
   "id": "7e6de9bf-e145-4e17-97fd-97f69807fd7d",
   "metadata": {},
   "outputs": [
    {
     "name": "stdout",
     "output_type": "stream",
     "text": [
      "Matching sequences: ['Hel', 'How']\n",
      "Any characters found: ['a', 'b', 'c', '1', '2', '3']\n"
     ]
    }
   ],
   "source": [
    "# . - Matches any character (except a newline)\n",
    "text = \"Hello! How are you?\"\n",
    "any_characters = re.findall(r'H..', text)\n",
    "print(\"Matching sequences:\", any_characters)\n",
    "\n",
    "text = \"abc123\"\n",
    "any_character = re.findall(r'.', text)\n",
    "print(\"Any characters found:\", any_character)"
   ]
  },
  {
   "cell_type": "code",
   "execution_count": 75,
   "id": "2b176133-d785-4854-ad1e-d69f71c1d95f",
   "metadata": {},
   "outputs": [
    {
     "name": "stdout",
     "output_type": "stream",
     "text": [
      "Vowels found: ['i', 'o', 'e', 'a', 'e', 'i', 'o', 'u']\n"
     ]
    }
   ],
   "source": [
    "# [] - Matches any character within the brackets\n",
    "text = \"find vowels aeiou\"\n",
    "vowels = re.findall(r'[aeiou]', text)\n",
    "print(\"Vowels found:\", vowels)"
   ]
  },
  {
   "cell_type": "code",
   "execution_count": 77,
   "id": "ff35cb1b-78ce-4ef4-b2fb-a1cbc900cb8a",
   "metadata": {},
   "outputs": [
    {
     "name": "stdout",
     "output_type": "stream",
     "text": [
      "Non-vowel characters: ['b', 'c', 'd', 'f']\n"
     ]
    }
   ],
   "source": [
    "# [^] - Matches any character not within the brackets\n",
    "text = \"abcdef\"\n",
    "non_vowels = re.findall(r'[^aeiou]', text)\n",
    "print(\"Non-vowel characters:\", non_vowels)"
   ]
  },
  {
   "cell_type": "code",
   "execution_count": 79,
   "id": "28134653-2169-4580-9ddb-8b50ab89b519",
   "metadata": {},
   "outputs": [
    {
     "name": "stdout",
     "output_type": "stream",
     "text": [
      "Pattern with '*': ['', '', 'bbbb', '', '']\n"
     ]
    }
   ],
   "source": [
    "# * - Matches zero or more occurrences of the preceding pattern\n",
    "text = \"aabbbbc\"\n",
    "pattern = re.findall(r'b*', text)\n",
    "print(\"Pattern with '*':\", pattern)"
   ]
  },
  {
   "cell_type": "code",
   "execution_count": 81,
   "id": "847121b7-bdaf-478c-9eed-b122e3c90402",
   "metadata": {},
   "outputs": [
    {
     "name": "stdout",
     "output_type": "stream",
     "text": [
      "Pattern with '+': ['bbbb']\n"
     ]
    }
   ],
   "source": [
    "# + - Matches one or more occurrences of the preceding pattern\n",
    "text = \"aabbbbc\"\n",
    "pattern = re.findall(r'b+', text)\n",
    "print(\"Pattern with '+':\", pattern)"
   ]
  },
  {
   "cell_type": "code",
   "execution_count": 83,
   "id": "b4772e5f-afce-477e-b662-bc1f1ce9f99d",
   "metadata": {},
   "outputs": [
    {
     "name": "stdout",
     "output_type": "stream",
     "text": [
      "Pattern with '?': ['color', 'colour']\n"
     ]
    }
   ],
   "source": [
    "# ? - Matches zero or one occurrence of the preceding pattern\n",
    "text = \"color or colour?\"\n",
    "pattern = re.findall(r'colou?r', text)\n",
    "print(\"Pattern with '?':\", pattern)"
   ]
  },
  {
   "cell_type": "code",
   "execution_count": 85,
   "id": "fba9c8c0-ef1e-45d5-9891-c25c95161fe2",
   "metadata": {},
   "outputs": [
    {
     "name": "stdout",
     "output_type": "stream",
     "text": [
      "Exact 3 digits match: ['123', '456']\n"
     ]
    }
   ],
   "source": [
    "# {n} - Matches exactly n occurrences of the preceding pattern\n",
    "text = \"123 4567 89\"\n",
    "exact_match = re.findall(r'\\d{3}', text)\n",
    "print(\"Exact 3 digits match:\", exact_match)"
   ]
  },
  {
   "cell_type": "code",
   "execution_count": 87,
   "id": "86d3bd4e-4392-4eda-a43e-e106f11b09aa",
   "metadata": {},
   "outputs": [
    {
     "name": "stdout",
     "output_type": "stream",
     "text": [
      "Match 3 or more digits: ['123', '4567']\n"
     ]
    }
   ],
   "source": [
    "# {n,} - Matches n or more occurrences of the preceding pattern\n",
    "text = \"123 4567 89\"\n",
    "n_or_more = re.findall(r'\\d{3,}', text)\n",
    "print(\"Match 3 or more digits:\", n_or_more)"
   ]
  },
  {
   "cell_type": "code",
   "execution_count": 89,
   "id": "a91759af-6672-48b8-817b-dc4f2df427f5",
   "metadata": {},
   "outputs": [
    {
     "name": "stdout",
     "output_type": "stream",
     "text": [
      "Match between 2 to 4 digits: ['123', '4567', '89']\n"
     ]
    }
   ],
   "source": [
    "# {n,m} - Matches between n and m occurrences of the preceding pattern\n",
    "text = \"123 4567 89\"\n",
    "between_n_m = re.findall(r'\\d{2,4}', text)\n",
    "print(\"Match between 2 to 4 digits:\", between_n_m)"
   ]
  },
  {
   "cell_type": "code",
   "execution_count": 95,
   "id": "56a2de6e-b277-4eb4-b322-b8bb67dd8eb8",
   "metadata": {},
   "outputs": [
    {
     "name": "stdout",
     "output_type": "stream",
     "text": [
      "Matched email address: support@example.com\n",
      "Text after redaction: Please contact us at REDACTED for further assistance.\n"
     ]
    }
   ],
   "source": [
    "#Example: Finding and Replacing an Email Address in a String\n",
    "#1. Pattern Matching:\n",
    "#In this example, we will search for an email address within a string using re.search().\n",
    "#2. String Manipulation:\n",
    "#Once we find the email, we will replace it with \"REDACTED\" using re.sub().\n",
    "\n",
    "# Sample text with an email address\n",
    "text = \"Please contact us at support@example.com for further assistance.\"\n",
    "\n",
    "# Regular expression to match an email address pattern\n",
    "email_pattern = r'\\w+@\\w+\\.\\w+'\n",
    "\n",
    "# Searching for the email address using re.search()\n",
    "match = re.search(email_pattern, text)\n",
    "if match:\n",
    "    print(f\"Matched email address: {match.group(0)}\")\n",
    "\n",
    "# Using re.sub() to replace the email address with 'REDACTED'\n",
    "redacted_text = re.sub(email_pattern, 'REDACTED', text)\n",
    "print(\"Text after redaction:\", redacted_text)"
   ]
  }
 ],
 "metadata": {
  "kernelspec": {
   "display_name": "Python 3 (ipykernel)",
   "language": "python",
   "name": "python3"
  },
  "language_info": {
   "codemirror_mode": {
    "name": "ipython",
    "version": 3
   },
   "file_extension": ".py",
   "mimetype": "text/x-python",
   "name": "python",
   "nbconvert_exporter": "python",
   "pygments_lexer": "ipython3",
   "version": "3.12.4"
  }
 },
 "nbformat": 4,
 "nbformat_minor": 5
}
