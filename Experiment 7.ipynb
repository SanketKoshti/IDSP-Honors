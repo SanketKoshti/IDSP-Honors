{
 "cells": [
  {
   "cell_type": "markdown",
   "id": "505d2685-bd26-409c-8e2f-017daa7773d6",
   "metadata": {},
   "source": [
    "# Python program to import data from Comma Separated Files (CSV) file, manipulate data, and export data in CSV file"
   ]
  },
  {
   "cell_type": "markdown",
   "id": "02ef67ad-9f4e-42a5-ba1c-ba2f571ff36e",
   "metadata": {},
   "source": [
    "## 1. Importing the CSV Library"
   ]
  },
  {
   "cell_type": "code",
   "execution_count": 3,
   "id": "ad056175-d4c5-4eb2-8ebe-b1b9c2ae3bec",
   "metadata": {},
   "outputs": [],
   "source": [
    "import csv"
   ]
  },
  {
   "cell_type": "markdown",
   "id": "9d78ca49-e0dc-48bd-92f6-458454ba6fcf",
   "metadata": {},
   "source": [
    "## 2. Defining Fields and Rows"
   ]
  },
  {
   "cell_type": "code",
   "execution_count": 6,
   "id": "b0c71112-b985-4bcd-a310-0a67b9e8d068",
   "metadata": {},
   "outputs": [],
   "source": [
    "# Define fields and rows for writing to the CSV\n",
    "fields = ['Name', 'Salary']  # Column names\n",
    "rows = [\n",
    "    ['Alice', 50000],\n",
    "    ['Bob', 60000],\n",
    "    ['Charlie', 70000],\n",
    "    ['David', 80000],\n",
    "    ['Eva', 90000]\n",
    "]  # Data rows"
   ]
  },
  {
   "cell_type": "markdown",
   "id": "d74af40b-aa99-4288-8ac0-16576dd97000",
   "metadata": {},
   "source": [
    "## 3. Writing to a CSV File"
   ]
  },
  {
   "cell_type": "code",
   "execution_count": 9,
   "id": "bef2e183-5664-42b6-be2b-c4cc595d8b6b",
   "metadata": {},
   "outputs": [],
   "source": [
    "# Function to write data to a CSV file\n",
    "def write_to_csv(filename, fields, rows):\n",
    "    # Open the file in write mode\n",
    "    with open(filename, mode='w', newline='') as csvfile:\n",
    "        # Create a csv.writer object\n",
    "        csvwriter = csv.writer(csvfile)\n",
    "        # Write the header (fields)\n",
    "        csvwriter.writerow(fields)\n",
    "        # Write multiple rows\n",
    "        csvwriter.writerows(rows)\n",
    "    print(f\"Data written to {filename}\")"
   ]
  },
  {
   "cell_type": "markdown",
   "id": "ec840061-43cc-4bba-8d83-2ecc8e84bbed",
   "metadata": {},
   "source": [
    "## 4. Reading from a CSV File"
   ]
  },
  {
   "cell_type": "code",
   "execution_count": 12,
   "id": "1ec6d01a-aa55-4f65-a62e-c051c79128d6",
   "metadata": {},
   "outputs": [],
   "source": [
    "# Function to read data from a CSV file\n",
    "def read_from_csv(filename):\n",
    "    # Open the file in read mode\n",
    "    with open(filename, mode='r') as csvfile:\n",
    "        # Create a csv.reader object\n",
    "        csvreader = csv.reader(csvfile)\n",
    "        \n",
    "        # Read the header\n",
    "        header = next(csvreader)\n",
    "        print(\"Header:\", header)\n",
    "        \n",
    "        # Read and print each row\n",
    "        print(\"Rows:\")\n",
    "        for row in csvreader:\n",
    "            print(row)"
   ]
  },
  {
   "cell_type": "markdown",
   "id": "ffc8861b-57c9-45e1-805e-f9e5c6c759d3",
   "metadata": {},
   "source": [
    "## 5. Main Execution"
   ]
  },
  {
   "cell_type": "code",
   "execution_count": 15,
   "id": "3222f341-4146-459d-a82d-fd3a204b088b",
   "metadata": {},
   "outputs": [
    {
     "name": "stdout",
     "output_type": "stream",
     "text": [
      "Data written to Salary_Data.csv\n",
      "\n",
      "Reading from the CSV file:\n",
      "\n",
      "Header: ['Name', 'Salary']\n",
      "Rows:\n",
      "['Alice', '50000']\n",
      "['Bob', '60000']\n",
      "['Charlie', '70000']\n",
      "['David', '80000']\n",
      "['Eva', '90000']\n"
     ]
    }
   ],
   "source": [
    "# Main execution\n",
    "if __name__ == \"__main__\":\n",
    "    # Define the CSV filename\n",
    "    filename = 'Salary_Data.csv'\n",
    "    \n",
    "    # Write to the CSV file\n",
    "    write_to_csv(filename, fields, rows)\n",
    "    \n",
    "    # Read from the CSV file\n",
    "    print(\"\\nReading from the CSV file:\\n\")\n",
    "    read_from_csv(filename)"
   ]
  }
 ],
 "metadata": {
  "kernelspec": {
   "display_name": "Python 3 (ipykernel)",
   "language": "python",
   "name": "python3"
  },
  "language_info": {
   "codemirror_mode": {
    "name": "ipython",
    "version": 3
   },
   "file_extension": ".py",
   "mimetype": "text/x-python",
   "name": "python",
   "nbconvert_exporter": "python",
   "pygments_lexer": "ipython3",
   "version": "3.12.4"
  }
 },
 "nbformat": 4,
 "nbformat_minor": 5
}
