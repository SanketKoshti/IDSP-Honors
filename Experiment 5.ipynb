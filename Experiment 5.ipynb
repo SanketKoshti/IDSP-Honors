{
 "cells": [
  {
   "cell_type": "markdown",
   "id": "b1c46bd4-5d40-4dbb-9c67-8e3b880be5f7",
   "metadata": {},
   "source": [
    "# Python program to demonstrate unary and binary operators in Numpy"
   ]
  },
  {
   "cell_type": "code",
   "execution_count": 82,
   "id": "bed5c313-c836-4c17-afbe-4cf061964e0c",
   "metadata": {},
   "outputs": [],
   "source": [
    "import numpy as np"
   ]
  },
  {
   "cell_type": "markdown",
   "id": "90fc5a91-1809-4b1e-ba6f-81256206787b",
   "metadata": {},
   "source": [
    "## 1. Unary Operations in NumPy:"
   ]
  },
  {
   "cell_type": "code",
   "execution_count": null,
   "id": "2d284e92-f32e-46e4-bfe0-832b7d608e7b",
   "metadata": {},
   "outputs": [],
   "source": [
    "# Create a sample array\n",
    "arr = np.array([1, -4, 9, 16, -25])"
   ]
  },
  {
   "cell_type": "code",
   "execution_count": 86,
   "id": "a0562cd5-e06f-40f8-8a3a-5539fbae71bd",
   "metadata": {},
   "outputs": [
    {
     "name": "stdout",
     "output_type": "stream",
     "text": [
      "Original Array: [  1  -4   9  16 -25]\n",
      "Absolute Values: [ 1  4  9 16 25]\n",
      "Square Root: [1. 2. 3. 4. 5.]\n",
      "Exponential Values: [2.71828183e+00 1.83156389e-02 8.10308393e+03 8.88611052e+06\n",
      " 1.38879439e-11]\n",
      "Square of Values: [  1  16  81 256 625]\n",
      "Sine Values: [ 0.84147098  0.7568025   0.41211849 -0.28790332  0.13235175]\n",
      "Cosine Values: [ 0.54030231 -0.65364362 -0.91113026 -0.95765948  0.99120281]\n",
      "Tangent Values: [ 1.55740772 -1.15782128 -0.45231566  0.30063224  0.13352641]\n"
     ]
    }
   ],
   "source": [
    "# Unary operations\n",
    "print(\"Original Array:\", arr)\n",
    "print(\"Absolute Values:\", np.abs(arr))           # Absolute values\n",
    "print(\"Square Root:\", np.sqrt(np.abs(arr)))      # Square root of absolute values (to avoid complex numbers)\n",
    "print(\"Exponential Values:\", np.exp(arr))        # Exponential values\n",
    "print(\"Square of Values:\", np.square(arr))       # Squaring values\n",
    "print(\"Sine Values:\", np.sin(arr))               # Sine of values\n",
    "print(\"Cosine Values:\", np.cos(arr))             # Cosine of values\n",
    "print(\"Tangent Values:\", np.tan(arr))            # Tangent of values"
   ]
  },
  {
   "cell_type": "markdown",
   "id": "1252a3de-7be0-484d-a37f-b4a7adec72bd",
   "metadata": {},
   "source": [
    "## 2. Binary Operations in NumPy:"
   ]
  },
  {
   "cell_type": "code",
   "execution_count": 89,
   "id": "a09a50b7-661f-4f4f-928e-54d624d845e5",
   "metadata": {},
   "outputs": [],
   "source": [
    "# Create two sample arrays for binary operations\n",
    "arr1 = np.array([12, 5, 7])\n",
    "arr2 = np.array([10, 15, 3])"
   ]
  },
  {
   "cell_type": "code",
   "execution_count": 91,
   "id": "3efa81dd-3817-41e7-83e2-54800c26bda2",
   "metadata": {},
   "outputs": [
    {
     "name": "stdout",
     "output_type": "stream",
     "text": [
      "\n",
      "Array 1: [12  5  7]\n",
      "Array 2: [10 15  3]\n",
      "Bitwise AND: [8 5 3]\n",
      "Bitwise OR: [14 15  7]\n",
      "Bitwise NOT (Array 1): [-13  -6  -8]\n",
      "Left Shift (Array 1): [48 20 28]\n",
      "Right Shift (Array 2): [2 3 0]\n"
     ]
    }
   ],
   "source": [
    "# Binary operations\n",
    "print(\"\\nArray 1:\", arr1)\n",
    "print(\"Array 2:\", arr2)\n",
    "print(\"Bitwise AND:\", np.bitwise_and(arr1, arr2))   # Bitwise AND\n",
    "print(\"Bitwise OR:\", np.bitwise_or(arr1, arr2))     # Bitwise OR\n",
    "print(\"Bitwise NOT (Array 1):\", np.invert(arr1))    # Bitwise NOT (invert)\n",
    "print(\"Left Shift (Array 1):\", np.left_shift(arr1, 2))   # Left shift elements of arr1 by 2 bits\n",
    "print(\"Right Shift (Array 2):\", np.right_shift(arr2, 2)) # Right shift elements of arr2 by 2 bits"
   ]
  }
 ],
 "metadata": {
  "kernelspec": {
   "display_name": "Python 3 (ipykernel)",
   "language": "python",
   "name": "python3"
  },
  "language_info": {
   "codemirror_mode": {
    "name": "ipython",
    "version": 3
   },
   "file_extension": ".py",
   "mimetype": "text/x-python",
   "name": "python",
   "nbconvert_exporter": "python",
   "pygments_lexer": "ipython3",
   "version": "3.12.4"
  }
 },
 "nbformat": 4,
 "nbformat_minor": 5
}
