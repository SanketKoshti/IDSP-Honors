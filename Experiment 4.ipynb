{
 "cells": [
  {
   "cell_type": "markdown",
   "id": "c381865d-6ffb-4f42-859e-415bcd30efdf",
   "metadata": {},
   "source": [
    "# Python program to demonstrate basic operations on single array and multiple arrays"
   ]
  },
  {
   "cell_type": "markdown",
   "id": "3811c7e9-6656-4b40-9494-1684e43e27cf",
   "metadata": {},
   "source": [
    "## 1. Creating Single and Multi-dimensional Arrays:"
   ]
  },
  {
   "cell_type": "code",
   "execution_count": 58,
   "id": "9f33928f-f4b3-422b-abbf-e685150e4711",
   "metadata": {},
   "outputs": [],
   "source": [
    "import numpy as np"
   ]
  },
  {
   "cell_type": "code",
   "execution_count": 60,
   "id": "948cfe25-38f0-44cf-a1dd-5dce62e46386",
   "metadata": {},
   "outputs": [],
   "source": [
    "# Single-dimensional array\n",
    "single_array = np.array([1, 2, 3, 4, 5])"
   ]
  },
  {
   "cell_type": "code",
   "execution_count": 62,
   "id": "4a41b839-c932-474c-98a7-f96a581990d2",
   "metadata": {},
   "outputs": [],
   "source": [
    "# Multi-dimensional array (2D array with 3 rows and 4 columns)\n",
    "multi_array = np.array([[1, 2, 3, 4], \n",
    "                        [5, 6, 7, 8], \n",
    "                        [9, 10, 11, 12]])"
   ]
  },
  {
   "cell_type": "code",
   "execution_count": 64,
   "id": "ea92f386-5e91-431a-a30f-4686b6571e4b",
   "metadata": {},
   "outputs": [
    {
     "name": "stdout",
     "output_type": "stream",
     "text": [
      "Single-dimensional array:\n",
      "[1 2 3 4 5]\n",
      "\n",
      "Multi-dimensional array:\n",
      "[[ 1  2  3  4]\n",
      " [ 5  6  7  8]\n",
      " [ 9 10 11 12]]\n"
     ]
    }
   ],
   "source": [
    "# Printing the arrays\n",
    "print(\"Single-dimensional array:\")\n",
    "print(single_array)\n",
    "\n",
    "print(\"\\nMulti-dimensional array:\")\n",
    "print(multi_array)"
   ]
  },
  {
   "cell_type": "markdown",
   "id": "1d8d24f5-4970-4c7a-b4e9-7b4255af3b64",
   "metadata": {},
   "source": [
    "## 2. Accessing and Modifying Elements in a Multi-dimensional Array:"
   ]
  },
  {
   "cell_type": "code",
   "execution_count": 69,
   "id": "3bf9e75d-57e6-4f65-a1b2-31344e18da94",
   "metadata": {},
   "outputs": [
    {
     "name": "stdout",
     "output_type": "stream",
     "text": [
      "\n",
      "Element at row 1, column 2: 7\n"
     ]
    }
   ],
   "source": [
    "# Accessing an element at row 1, column 2\n",
    "element = multi_array[1, 2]\n",
    "print(\"\\nElement at row 1, column 2:\", element)  # Output: 7"
   ]
  },
  {
   "cell_type": "code",
   "execution_count": 71,
   "id": "d8093072-2494-4660-8540-1c5e1ae9ac84",
   "metadata": {},
   "outputs": [
    {
     "name": "stdout",
     "output_type": "stream",
     "text": [
      "\n",
      "Modified Multi-dimensional array:\n",
      "[[ 1  2  3 20]\n",
      " [ 5  6  7  8]\n",
      " [ 9 10 11 12]]\n"
     ]
    }
   ],
   "source": [
    "# Modifying an element at row 0, column 3\n",
    "multi_array[0, 3] = 20\n",
    "\n",
    "# Printing the modified array\n",
    "print(\"\\nModified Multi-dimensional array:\")\n",
    "print(multi_array)"
   ]
  },
  {
   "cell_type": "markdown",
   "id": "6fc699ac-cb7c-41f7-8001-ee36c0840b3a",
   "metadata": {},
   "source": [
    "## 3. Performing Operations on a Multi-dimensional Array:"
   ]
  },
  {
   "cell_type": "code",
   "execution_count": 74,
   "id": "5a368653-329c-4a00-a7e5-13762103233a",
   "metadata": {},
   "outputs": [
    {
     "name": "stdout",
     "output_type": "stream",
     "text": [
      "\n",
      "Sum of all elements in the multi-dimensional array: 94\n"
     ]
    }
   ],
   "source": [
    "# Calculating the sum of all elements in the multi-dimensional array\n",
    "total_sum = np.sum(multi_array)\n",
    "print(\"\\nSum of all elements in the multi-dimensional array:\", total_sum)  # Output: 78"
   ]
  },
  {
   "cell_type": "code",
   "execution_count": 76,
   "id": "46a2fdbd-fefb-423b-a52b-551c835a943d",
   "metadata": {},
   "outputs": [
    {
     "name": "stdout",
     "output_type": "stream",
     "text": [
      "\n",
      "Mean of each row: [ 6.5  6.5 10.5]\n"
     ]
    }
   ],
   "source": [
    "# Calculating the mean of each row\n",
    "mean_of_rows = np.mean(multi_array, axis=1)\n",
    "print(\"\\nMean of each row:\", mean_of_rows)  # Output: [ 2.5  6.5 10.5]"
   ]
  },
  {
   "cell_type": "code",
   "execution_count": 78,
   "id": "24a7ade6-fc52-4e3f-a7b4-023d765960ba",
   "metadata": {},
   "outputs": [
    {
     "name": "stdout",
     "output_type": "stream",
     "text": [
      "\n",
      "Dot product of the arrays:\n",
      "[[188 214]\n",
      " [140 166]\n",
      " [220 262]]\n"
     ]
    }
   ],
   "source": [
    "# Creating another multi-dimensional array for dot product\n",
    "b = np.array([[2, 3], \n",
    "              [4, 5], \n",
    "              [6, 7], \n",
    "              [8, 9]])\n",
    "\n",
    "# Calculating the dot product of the two matrices\n",
    "dot_product = np.dot(multi_array, b)\n",
    "print(\"\\nDot product of the arrays:\")\n",
    "print(dot_product)"
   ]
  }
 ],
 "metadata": {
  "kernelspec": {
   "display_name": "Python 3 (ipykernel)",
   "language": "python",
   "name": "python3"
  },
  "language_info": {
   "codemirror_mode": {
    "name": "ipython",
    "version": 3
   },
   "file_extension": ".py",
   "mimetype": "text/x-python",
   "name": "python",
   "nbconvert_exporter": "python",
   "pygments_lexer": "ipython3",
   "version": "3.12.4"
  }
 },
 "nbformat": 4,
 "nbformat_minor": 5
}
