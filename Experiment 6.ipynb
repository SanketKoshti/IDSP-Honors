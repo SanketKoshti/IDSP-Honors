{
 "cells": [
  {
   "cell_type": "markdown",
   "id": "92ee62b2-ea71-47d0-b989-32e013f16801",
   "metadata": {},
   "source": [
    "# Python program to demonstrate lambda technique"
   ]
  },
  {
   "cell_type": "markdown",
   "id": "ab1840dd-b299-479d-a043-65944cce80ed",
   "metadata": {},
   "source": [
    "## 1. Basic Example of Lambda Function:"
   ]
  },
  {
   "cell_type": "code",
   "execution_count": 95,
   "id": "1d768806-d1e7-4db6-a3f9-c556c3a8d23f",
   "metadata": {},
   "outputs": [],
   "source": [
    "# Lambda function to add 4 to a number\n",
    "add = lambda num: num + 4"
   ]
  },
  {
   "cell_type": "code",
   "execution_count": 97,
   "id": "62ebaa40-53f3-449d-a1dd-b3d7a5600d82",
   "metadata": {},
   "outputs": [
    {
     "name": "stdout",
     "output_type": "stream",
     "text": [
      "Lambda Function Output: 10\n"
     ]
    }
   ],
   "source": [
    "# Test the lambda function\n",
    "print(\"Lambda Function Output:\", add(6))  # Output: 10"
   ]
  },
  {
   "cell_type": "code",
   "execution_count": 99,
   "id": "e993fd7c-f4fd-4bab-ad1d-3db45f94cc43",
   "metadata": {},
   "outputs": [
    {
     "name": "stdout",
     "output_type": "stream",
     "text": [
      "Using regular function: 10\n"
     ]
    }
   ],
   "source": [
    "# Define a simple function to add 4 to a number\n",
    "def add_4(num):\n",
    "    return num + 4\n",
    "\n",
    "# Test the function\n",
    "print(\"Using regular function:\", add_4(6))  # Output: 10"
   ]
  },
  {
   "cell_type": "markdown",
   "id": "3fa33919-8834-4bd1-b428-7fb741ab6d8d",
   "metadata": {},
   "source": [
    "## Example 2:"
   ]
  },
  {
   "cell_type": "code",
   "execution_count": 101,
   "id": "f88b19f5-47e7-4941-9d0c-cfa431dc67ad",
   "metadata": {},
   "outputs": [
    {
     "name": "stdout",
     "output_type": "stream",
     "text": [
      "Sorted names by length using regular function: ['Bob', 'Eva', 'Alice', 'David', 'Charlotte']\n"
     ]
    }
   ],
   "source": [
    "# Define a function that returns the length of a name\n",
    "def name_length(name):\n",
    "    return len(name)\n",
    "\n",
    "# List of names\n",
    "names = [\"Alice\", \"Bob\", \"Charlotte\", \"David\", \"Eva\"]\n",
    "\n",
    "# Sort the names using the regular function\n",
    "sorted_names = sorted(names, key=name_length)\n",
    "\n",
    "print(\"Sorted names by length using regular function:\", sorted_names)"
   ]
  },
  {
   "cell_type": "code",
   "execution_count": 103,
   "id": "17053521-3c06-42e9-bc04-c76eec26e46a",
   "metadata": {},
   "outputs": [
    {
     "name": "stdout",
     "output_type": "stream",
     "text": [
      "Sorted names by length using lambda function: ['Bob', 'Eva', 'Alice', 'David', 'Charlotte']\n"
     ]
    }
   ],
   "source": [
    "# List of names\n",
    "names = [\"Alice\", \"Bob\", \"Charlotte\", \"David\", \"Eva\"]\n",
    "\n",
    "# Sort the names using a lambda function\n",
    "sorted_names_lambda = sorted(names, key=lambda name: len(name))\n",
    "\n",
    "print(\"Sorted names by length using lambda function:\", sorted_names_lambda)\n"
   ]
  },
  {
   "cell_type": "markdown",
   "id": "6e538152-28ca-4872-9e15-dcec1a22f23d",
   "metadata": {},
   "source": [
    "## Example 3:"
   ]
  },
  {
   "cell_type": "code",
   "execution_count": 107,
   "id": "ab69a83d-0f2c-4ef2-9b74-2c5ac8d74d74",
   "metadata": {},
   "outputs": [
    {
     "name": "stdout",
     "output_type": "stream",
     "text": [
      "Squared numbers using regular function: [1, 4, 9, 16]\n"
     ]
    }
   ],
   "source": [
    "# Define a function to square a number\n",
    "def square(num):\n",
    "    return num ** 2\n",
    "\n",
    "# List of numbers\n",
    "numbers = [1, 2, 3, 4]\n",
    "\n",
    "# Use list comprehension with a regular function\n",
    "squared_numbers = [square(n) for n in numbers]\n",
    "\n",
    "print(\"Squared numbers using regular function:\", squared_numbers)  # Output: [1, 4, 9, 16]"
   ]
  },
  {
   "cell_type": "code",
   "execution_count": 109,
   "id": "dcd942fe-69f3-40a6-8917-12942a54a927",
   "metadata": {},
   "outputs": [
    {
     "name": "stdout",
     "output_type": "stream",
     "text": [
      "Squared numbers using lambda function: [1, 4, 9, 16]\n"
     ]
    }
   ],
   "source": [
    "# Use list comprehension with a lambda function\n",
    "squared_numbers_lambda = [(lambda x: x ** 2)(n) for n in numbers]\n",
    "\n",
    "print(\"Squared numbers using lambda function:\", squared_numbers_lambda)  # Output: [1, 4, 9, 16]"
   ]
  },
  {
   "cell_type": "markdown",
   "id": "83be2e08-a651-4559-bc2c-6465f67a9b4c",
   "metadata": {},
   "source": [
    "## Example 4:"
   ]
  },
  {
   "cell_type": "code",
   "execution_count": 112,
   "id": "293b98dd-4ec7-4e30-ae96-2247bf68bfcb",
   "metadata": {},
   "outputs": [
    {
     "name": "stdout",
     "output_type": "stream",
     "text": [
      "Names starting with 'A' using regular function: ['Alice', 'Anna']\n"
     ]
    }
   ],
   "source": [
    "# Define a function to check if a name starts with a specific letter\n",
    "def starts_with_a(name):\n",
    "    return name.startswith('A')\n",
    "\n",
    "# List of names\n",
    "names = [\"Alice\", \"Bob\", \"Anna\", \"Charlie\"]\n",
    "\n",
    "# Use filter with a regular function\n",
    "names_with_a = list(filter(starts_with_a, names))\n",
    "\n",
    "print(\"Names starting with 'A' using regular function:\", names_with_a)  # Output: ['Alice', 'Anna']"
   ]
  },
  {
   "cell_type": "code",
   "execution_count": 114,
   "id": "de86e489-f1ee-4328-b920-97db3a12e1eb",
   "metadata": {},
   "outputs": [
    {
     "name": "stdout",
     "output_type": "stream",
     "text": [
      "Names starting with 'A' using lambda function: ['Alice', 'Anna']\n"
     ]
    }
   ],
   "source": [
    "# Use filter with a lambda function\n",
    "names_with_a_lambda = list(filter(lambda name: name.startswith('A'), names))\n",
    "\n",
    "print(\"Names starting with 'A' using lambda function:\", names_with_a_lambda)  # Output: ['Alice', 'Anna']"
   ]
  },
  {
   "cell_type": "markdown",
   "id": "e2c2d763-dedb-405e-a666-96f3b676bd22",
   "metadata": {},
   "source": [
    "## Example 5:"
   ]
  },
  {
   "cell_type": "code",
   "execution_count": 119,
   "id": "f6f2c2b3-f5f4-4aea-b4a1-658fa59c0ec1",
   "metadata": {},
   "outputs": [
    {
     "name": "stdout",
     "output_type": "stream",
     "text": [
      "Lengths using regular function: [5, 6, 6]\n"
     ]
    }
   ],
   "source": [
    "# Define a function to calculate the length of a string\n",
    "def string_length(s):\n",
    "    return len(s)\n",
    "\n",
    "# List of strings\n",
    "strings = [\"apple\", \"banana\", \"cherry\"]\n",
    "\n",
    "# Use map with a regular function\n",
    "lengths = list(map(string_length, strings))\n",
    "\n",
    "print(\"Lengths using regular function:\", lengths)  # Output: [5, 6, 6]"
   ]
  },
  {
   "cell_type": "code",
   "execution_count": 121,
   "id": "3f2909c7-74ae-4240-bef1-eddf5516d61b",
   "metadata": {},
   "outputs": [
    {
     "name": "stdout",
     "output_type": "stream",
     "text": [
      "Lengths using lambda function: [5, 6, 6]\n"
     ]
    }
   ],
   "source": [
    "# Use map with a lambda function\n",
    "lengths_lambda = list(map(lambda s: len(s), strings))\n",
    "\n",
    "print(\"Lengths using lambda function:\", lengths_lambda)  # Output: [5, 6, 6]"
   ]
  }
 ],
 "metadata": {
  "kernelspec": {
   "display_name": "Python 3 (ipykernel)",
   "language": "python",
   "name": "python3"
  },
  "language_info": {
   "codemirror_mode": {
    "name": "ipython",
    "version": 3
   },
   "file_extension": ".py",
   "mimetype": "text/x-python",
   "name": "python",
   "nbconvert_exporter": "python",
   "pygments_lexer": "ipython3",
   "version": "3.12.4"
  }
 },
 "nbformat": 4,
 "nbformat_minor": 5
}
